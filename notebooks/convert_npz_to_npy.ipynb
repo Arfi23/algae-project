{
 "cells": [
  {
   "cell_type": "code",
   "execution_count": 1,
   "id": "55deac42-c036-4676-b5e1-2c6c475071a0",
   "metadata": {},
   "outputs": [
    {
     "name": "stdout",
     "output_type": "stream",
     "text": [
      "Sumber: ../data/processed\n",
      "Tujuan: ../data/npy_converted\n"
     ]
    }
   ],
   "source": [
    "import numpy as np\n",
    "import os\n",
    "\n",
    "src_dir = \"../data/processed\"\n",
    "dst_dir = \"../data/npy_converted\"\n",
    "os.makedirs(dst_dir, exist_ok=True)\n",
    "\n",
    "print(\"Sumber:\", src_dir)\n",
    "print(\"Tujuan:\", dst_dir)"
   ]
  },
  {
   "cell_type": "code",
   "execution_count": 2,
   "id": "3a48d2f0-356d-4ed9-a169-17fa98a124ce",
   "metadata": {},
   "outputs": [
    {
     "name": "stdout",
     "output_type": "stream",
     "text": [
      "OK Berhasil konversi: massimal_smola_maholmen_202306211129-2_hsi_003_processed.npz\n",
      "OK Berhasil konversi: massimal_smola_maholmen_202306211129-2_hsi_004_processed.npz\n",
      "OK Berhasil konversi: massimal_smola_maholmen_202306211129-2_hsi_008_processed.npz\n",
      "OK Berhasil konversi: massimal_smola_maholmen_202306211129-2_hsi_009_processed.npz\n",
      "OK Berhasil konversi: massimal_smola_maholmen_202306211129-2_hsi_013_processed.npz\n",
      "OK Berhasil konversi: massimal_smola_maholmen_202306211228-2_hsi_004_processed.npz\n",
      "OK Berhasil konversi: massimal_smola_maholmen_202306211228-2_hsi_005_processed.npz\n",
      "OK Berhasil konversi: massimal_smola_maholmen_202306211228-2_hsi_006_processed.npz\n",
      "OK Berhasil konversi: massimal_smola_maholmen_202306211228-2_hsi_009_processed.npz\n",
      "OK Berhasil konversi: massimal_smola_maholmen_202306211228-2_hsi_012_processed.npz\n",
      "OK Berhasil konversi: massimal_smola_maholmen_202306211228-2_hsi_013_processed.npz\n",
      "OK Berhasil konversi: massimal_smola_maholmen_202306211228-2_hsi_014_processed.npz\n",
      "OK Berhasil konversi: massimal_smola_maholmen_202306211228-2_hsi_015_processed.npz\n",
      "OK Berhasil konversi: massimal_smola_maholmen_202306211228-2_hsi_016_processed.npz\n",
      "OK Berhasil konversi: massimal_smola_maholmen_202306211228-2_hsi_018_processed.npz\n",
      "OK Berhasil konversi: massimal_smola_maholmen_202306211228-2_hsi_019_processed.npz\n",
      "OK Berhasil konversi: massimal_smola_maholmen_202306211228-2_hsi_020_processed.npz\n",
      "OK Berhasil konversi: massimal_smola_maholmen_202306211228-2_hsi_021_processed.npz\n"
     ]
    }
   ],
   "source": [
    "for fname in sorted(os.listdir(src_dir)):\n",
    "    if not fname.endswith(\".npz\"):\n",
    "        continue\n",
    "    src_path = os.path.join(src_dir, fname)\n",
    "    base = os.path.splitext(fname)[0]\n",
    "\n",
    "    try:\n",
    "        data = np.load(src_path)\n",
    "        x = data[\"x\"]\n",
    "        y = data[\"y\"]\n",
    "\n",
    "        np.save(os.path.join(dst_dir, base + \"_x.npy\"), x)\n",
    "        np.save(os.path.join(dst_dir, base + \"_y.npy\"), y)\n",
    "\n",
    "        print(f\"OK Berhasil konversi: {fname}\")\n",
    "    except Exception as e:\n",
    "        print(f\"WARN Gagal konversi {fname}: {e}\")"
   ]
  },
  {
   "cell_type": "code",
   "execution_count": 3,
   "id": "a7af8879-c529-4174-88f0-394a6d5c8c06",
   "metadata": {},
   "outputs": [
    {
     "name": "stdout",
     "output_type": "stream",
     "text": [
      "Total file hasil konversi: 18\n",
      "Contoh: massimal_smola_maholmen_202306211129-2_hsi_003_processed_x.npy\n"
     ]
    }
   ],
   "source": [
    "# Cek Hasil\n",
    "\n",
    "import glob\n",
    "\n",
    "converted = sorted(glob.glob(os.path.join(dst_dir, \"*_x.npy\")))\n",
    "print(f\"Total file hasil konversi: {len(converted)}\")\n",
    "print(\"Contoh:\", os.path.basename(converted[0]))"
   ]
  }
 ],
 "metadata": {
  "kernelspec": {
   "display_name": "Python 3 (ipykernel)",
   "language": "python",
   "name": "python3"
  },
  "language_info": {
   "codemirror_mode": {
    "name": "ipython",
    "version": 3
   },
   "file_extension": ".py",
   "mimetype": "text/x-python",
   "name": "python",
   "nbconvert_exporter": "python",
   "pygments_lexer": "ipython3",
   "version": "3.10.18"
  }
 },
 "nbformat": 4,
 "nbformat_minor": 5
}
