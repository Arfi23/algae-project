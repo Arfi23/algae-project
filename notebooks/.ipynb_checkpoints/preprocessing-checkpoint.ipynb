{
 "cells": [
  {
   "cell_type": "code",
   "execution_count": 3,
   "id": "96d3e500-ee94-4672-ada0-db7c400eee8c",
   "metadata": {},
   "outputs": [],
   "source": [
    "import numpy as np\n",
    "from spectral import envi, io\n",
    "from pathlib import Path\n",
    "import json\n",
    "from PIL import Image"
   ]
  },
  {
   "cell_type": "code",
   "execution_count": 4,
   "id": "52a93cd9-9a4b-484b-a2fb-24d67f07682d",
   "metadata": {},
   "outputs": [],
   "source": [
    "# =====================================================\n",
    "# Fungsi Utilitas\n",
    "# =====================================================\n",
    "\n",
    "def safe_divide(numerator, denominator, eps=1e-9):\n",
    "    return np.divide(numerator, denominator + eps,\n",
    "                     out=np.zeros_like(numerator, dtype=np.float32),\n",
    "                     where=(denominator > eps))\n",
    "\n",
    "def clamp_reflectance(cube, min_val=0.0, max_val=1.0):\n",
    "    return np.clip(cube, min_val, max_val)\n",
    "\n",
    "def hedley_glint_removal(cube, wavelengths, nir_range=(800,900), sample_percent=5):\n",
    "    # Ambil indeks band NIR\n",
    "    nir_idx = [i for i,w in enumerate(wavelengths) if nir_range[0] <= w <= nir_range[1]]\n",
    "    if len(nir_idx)==0:\n",
    "        raise ValueError(\"Tidak ada band di range NIR.\")\n",
    "    nir_band = cube[:,:,nir_idx].mean(axis=2)\n",
    "\n",
    "    # Cari piksel sample\n",
    "    flat = nir_band.flatten()\n",
    "    thresh = np.percentile(flat, sample_percent)\n",
    "    mask = nir_band <= thresh\n",
    "\n",
    "    # Hitung koefisien alpha per band\n",
    "    corrected = cube.copy()\n",
    "    for b in range(cube.shape[2]):\n",
    "        y = cube[:,:,b][mask]\n",
    "        x = nir_band[mask]\n",
    "        alpha = np.dot(x,y)/np.dot(x,x)\n",
    "        corrected[:,:,b] = cube[:,:,b] - alpha * nir_band\n",
    "    return corrected\n",
    "\n",
    "def load_label_mask(mask_file, label_classes_file):\n",
    "    # Load definisi kelas\n",
    "    with open(label_classes_file, \"r\") as f:\n",
    "        classes = json.load(f)\n",
    "    \n",
    "    # Buat mapping warna -> index\n",
    "    color_to_index = {}\n",
    "    class_names = []\n",
    "    for idx, cls in enumerate(classes):\n",
    "        rgb = tuple(cls[\"png_index\"])  # [R,G,B]\n",
    "        color_to_index[rgb] = idx\n",
    "        class_names.append(cls[\"name\"])\n",
    "    \n",
    "    # Load segmentation mask image\n",
    "    mask_img = Image.open(mask_file).convert(\"RGB\")\n",
    "    mask_arr = np.array(mask_img)\n",
    "    \n",
    "    # Konversi ke indeks kelas\n",
    "    h, w, _ = mask_arr.shape\n",
    "    label_map = np.zeros((h, w), dtype=np.int32)\n",
    "    \n",
    "    for rgb, idx in color_to_index.items():\n",
    "        matches = np.all(mask_arr == rgb, axis=-1)\n",
    "        label_map[matches] = idx\n",
    "    \n",
    "    return label_map, class_names"
   ]
  },
  {
   "cell_type": "code",
   "execution_count": 5,
   "id": "f00b1d7c-a832-4fef-a196-01a8e8329752",
   "metadata": {},
   "outputs": [],
   "source": [
    "# =====================================================\n",
    "# Versi A: (Load full cube)\n",
    "# =====================================================\n",
    "def process_tile_full(tile_id, base_path, out_path, mask_file, label_classes_file):\n",
    "    rad_data = base_path / f\"{tile_id}_radiance.bip\"\n",
    "    rad_hdr  = rad_data.with_suffix(\".bip.hdr\")\n",
    "    irr_file = base_path / f\"{tile_id}_irradiance.spec\"\n",
    "    irr_hdr  = irr_file.with_suffix(\".spec.hdr\")\n",
    "\n",
    "    # Load radiance cube (langsung penuh ke RAM)\n",
    "    cube_obj = envi.open(str(rad_hdr), str(rad_data))\n",
    "    cube_radiance = cube_obj.load().astype(np.float32)\n",
    "    rad_wavelengths = np.array([float(w) for w in cube_obj.metadata['wavelength']])\n",
    "\n",
    "    # Load irradiance\n",
    "    irr = io.envi.open(str(irr_hdr), str(irr_file))\n",
    "    irradiance = irr.load().squeeze().astype(np.float32)\n",
    "    irr_wavelengths = np.array([float(w) for w in irr.metadata['wavelength']])\n",
    "\n",
    "    # Sinkronisasi irradiance\n",
    "    irr_selected = np.array([\n",
    "        irradiance[np.abs(irr_wavelengths - wl).argmin()] for wl in rad_wavelengths\n",
    "    ], dtype=np.float32)\n",
    "\n",
    "    # Radiance -> Reflectance\n",
    "    cube_reflectance = safe_divide(np.pi * cube_radiance,\n",
    "                                   irr_selected[np.newaxis, np.newaxis, :])\n",
    "\n",
    "    # Clamp pra sun-glint removal\n",
    "    cube_reflectance = clamp_reflectance(cube_reflectance)\n",
    "\n",
    "    # Sun-glint removal\n",
    "    cube_reflectance_corrected = hedley_glint_removal(cube_reflectance,\n",
    "                                                      rad_wavelengths)\n",
    "\n",
    "    # Clamp final (pasca sun-glint removal)\n",
    "    cube_reflectance_corrected = clamp_reflectance(cube_reflectance_corrected)\n",
    "    \n",
    "    # Load label mask\n",
    "    label_map, class_names = load_label_mask(mask_file, label_classes_file)\n",
    "\n",
    "    # Pastikan ukuran sama dengan cube (crop/resize bila perlu)\n",
    "    if label_map.shape != cube_reflectance_corrected.shape[:2]:\n",
    "        raise ValueError(f\"Ukuran mask {label_map.shape} tidak cocok dengan cube {cube_reflectance_corrected.shape[:2]}\")\n",
    "\n",
    "    # Save compressed (x=reflectance cube, y=mask, class_names=label info)\n",
    "    out_file = out_path / f\"{tile_id}_processed.npz\"\n",
    "    np.savez_compressed(out_file,\n",
    "                        x=cube_reflectance_corrected,\n",
    "                        y=label_map,\n",
    "                        class_names=class_names)\n",
    "    print(f\"[OK] Saved with labels: {out_file}\")\n"
   ]
  },
  {
   "cell_type": "code",
   "execution_count": 6,
   "id": "4522bfd3-1c6f-449d-b30c-1fb658b42b55",
   "metadata": {},
   "outputs": [],
   "source": [
    "# Definisikan parameter tile\n",
    "tile_id = \"massimal_smola_maholmen_202306211129-2_hsi_003\"\n",
    "\n",
    "subfolder_cube_data = \"smola_maholmen_1129_data\"\n",
    "base_path = Path(\"../data/raw\") / subfolder_cube_data / \"radiance\" # lokasi cube radiance\n",
    "\n",
    "base_anno_path = Path(\"../data/annotation/segmentation_masks\") # lokasi keperluan anotasi\n",
    "subfolder_anno_mask = \"smola_maholmen_1129_masks\" # misal pakai yang 1129\n",
    "\n",
    "mask_file = base_anno_path / subfolder_anno_mask / f\"{tile_id}.png\"\n",
    "label_classes_file = base_anno_path / \"label_classes.json\"\n",
    "\n",
    "out_path  = Path(\"../data/processed\")"
   ]
  },
  {
   "cell_type": "code",
   "execution_count": 7,
   "id": "41eb5e71-146f-4b1e-b209-0e45e9152d87",
   "metadata": {},
   "outputs": [
    {
     "name": "stdout",
     "output_type": "stream",
     "text": [
      "[OK] Saved with labels: ..\\data\\processed\\massimal_smola_maholmen_202306211129-2_hsi_003_processed.npz\n"
     ]
    }
   ],
   "source": [
    "# ========== Eksekusi Versi A  ==========\n",
    "process_tile_full(\n",
    "    tile_id, \n",
    "    base_path, \n",
    "    out_path,\n",
    "    mask_file,\n",
    "    label_classes_file\n",
    ")"
   ]
  },
  {
   "cell_type": "code",
   "execution_count": 8,
   "id": "ca5e448b-28fa-492d-8a7b-2ef8f8f9e37f",
   "metadata": {},
   "outputs": [
    {
     "name": "stdout",
     "output_type": "stream",
     "text": [
      "Keys: ['x', 'y', 'class_names']\n",
      "Reflectance shape: (2000, 900, 300)\n",
      "Mask shape: (2000, 900)\n",
      "Reflectance min/max: -1.1074818 0.40337074\n",
      "Unique mask labels: [ 0 13 14 18 38]\n"
     ]
    }
   ],
   "source": [
    "data = np.load(\"../data/processed/massimal_smola_maholmen_202306211129-2_hsi_003_processed.npz\")\n",
    "\n",
    "print(\"Keys:\", data.files)              # melihat daftar key\n",
    "print(\"Reflectance shape:\", data['x'].shape)\n",
    "print(\"Mask shape:\", data['y'].shape)\n",
    "\n",
    "# contoh nilai min-max\n",
    "print(\"Reflectance min/max:\", data['x'].min(), data['x'].max())\n",
    "print(\"Unique mask labels:\", np.unique(data['y']))"
   ]
  }
 ],
 "metadata": {
  "kernelspec": {
   "display_name": "Python 3 (ipykernel)",
   "language": "python",
   "name": "python3"
  },
  "language_info": {
   "codemirror_mode": {
    "name": "ipython",
    "version": 3
   },
   "file_extension": ".py",
   "mimetype": "text/x-python",
   "name": "python",
   "nbconvert_exporter": "python",
   "pygments_lexer": "ipython3",
   "version": "3.10.18"
  }
 },
 "nbformat": 4,
 "nbformat_minor": 5
}
